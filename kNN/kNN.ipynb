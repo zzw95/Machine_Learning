{
 "cells": [
  {
   "cell_type": "code",
   "execution_count": 1,
   "metadata": {
    "collapsed": true
   },
   "outputs": [],
   "source": [
    "import numpy as np\n",
    "from collections import Counter"
   ]
  },
  {
   "cell_type": "code",
   "execution_count": 2,
   "metadata": {
    "collapsed": true
   },
   "outputs": [],
   "source": [
    "def kNN_classify(inputs, datasets, labels, k):\n",
    "    # inputs: vector, shape=[dim]\n",
    "    # datasets: numpy array, shape=[num, dim]\n",
    "    # labels: numpy array,shape=[num,1]\n",
    "    # k: number of  neighbors\n",
    "    # return prediction label\n",
    "    calMat = np.tile(inputs, [datasets.shape[0], 1])\n",
    "    assert calMat.shape==datasets.shape\n",
    "    calMat = (calMat - datasets)**2\n",
    "    calMat = np.sum(calMat, axis=1)\n",
    "    assert calMat.ndim==1\n",
    "    indices = np.argsort(calMat)\n",
    "    neighbor_labels = [labels[indices[i]][0] for i in range(k)]\n",
    "    label_counter = Counter(neighbor_labels)\n",
    "    return label_counter.most_common()[0][0]"
   ]
  },
  {
   "cell_type": "code",
   "execution_count": 3,
   "metadata": {
    "collapsed": true
   },
   "outputs": [],
   "source": [
    "def load_data():\n",
    "    label_dict = {\"didntLike\":1, \"smallDoses\":2, \"largeDoses\":3}\n",
    "    with open('datingTestSet.txt') as f:\n",
    "        textLines = f.readlines()\n",
    "        datasets = np.zeros([len(textLines), 3])\n",
    "        labels = np.zeros([len(textLines), 1])\n",
    "        for index, line in enumerate(textLines):\n",
    "            line = line.strip().split('\\t')\n",
    "            datasets[index] = line[0:3]\n",
    "            labels[index] = label_dict[line[-1]]\n",
    "        return datasets, labels"
   ]
  },
  {
   "cell_type": "code",
   "execution_count": 4,
   "metadata": {
    "collapsed": true
   },
   "outputs": [],
   "source": [
    "def norm_data(datasets):\n",
    "    mins = np.min(datasets,axis=0,keepdims=True)\n",
    "    maxs = np.max(datasets,axis=0,keepdims=True)\n",
    "    return (datasets-mins)/(maxs-mins)"
   ]
  },
  {
   "cell_type": "code",
   "execution_count": 5,
   "metadata": {
    "collapsed": false
   },
   "outputs": [
    {
     "name": "stdout",
     "output_type": "stream",
     "text": [
      "[[ 0.44832535  0.39805139  0.56233353]\n",
      " [ 0.15873259  0.34195467  0.98724416]\n",
      " [ 0.28542943  0.06892523  0.47449629]\n",
      " [ 0.82320073  0.62848007  0.25248929]\n",
      " [ 0.42010233  0.07982027  0.0785783 ]]\n",
      "[[ 3.]\n",
      " [ 2.]\n",
      " [ 1.]\n",
      " [ 1.]\n",
      " [ 1.]]\n",
      "(1000, 3)\n",
      "(1000, 1)\n"
     ]
    }
   ],
   "source": [
    "datasets, labels = load_data()\n",
    "datasets = norm_data(datasets)\n",
    "print(datasets[0:5])\n",
    "print(labels[0:5])\n",
    "print(datasets.shape)\n",
    "print(labels.shape)"
   ]
  },
  {
   "cell_type": "code",
   "execution_count": 6,
   "metadata": {
    "collapsed": false
   },
   "outputs": [
    {
     "name": "stdout",
     "output_type": "stream",
     "text": [
      "The error rate is 0.050000000000000044\n"
     ]
    }
   ],
   "source": [
    "splitRatio=0.9\n",
    "splitIdx=int(splitRatio*datasets.shape[0])\n",
    "train_datasets=datasets[:splitIdx]\n",
    "train_labels=labels[:splitIdx]\n",
    "test_datasets=datasets[splitIdx:]\n",
    "test_labels=labels[splitIdx:]\n",
    "test_pred=np.zeros(test_labels.shape)\n",
    "for i in range(test_datasets.shape[0]):\n",
    "    test_pred[i] = kNN_classify(test_datasets[i], train_datasets, train_labels, 5)\n",
    "error=1-np.mean((test_labels==test_pred)*1)\n",
    "print(\"The error rate is {}\".format(error))"
   ]
  },
  {
   "cell_type": "code",
   "execution_count": 7,
   "metadata": {
    "collapsed": false
   },
   "outputs": [
    {
     "name": "stdout",
     "output_type": "stream",
     "text": [
      "The error rate is 0.050000000000000044\n"
     ]
    },
    {
     "name": "stderr",
     "output_type": "stream",
     "text": [
      "D:\\Program Files\\Anaconda3\\lib\\site-packages\\ipykernel\\__main__.py:3: DataConversionWarning: A column-vector y was passed when a 1d array was expected. Please change the shape of y to (n_samples, ), for example using ravel().\n",
      "  app.launch_new_instance()\n"
     ]
    }
   ],
   "source": [
    "from sklearn.neighbors import KNeighborsClassifier\n",
    "neigh = KNeighborsClassifier(n_neighbors=5)\n",
    "neigh.fit(train_datasets, train_labels) \n",
    "test_pred1 = neigh.predict(test_datasets).reshape(-1,1)\n",
    "error1=1-np.mean((test_labels==test_pred1)*1)\n",
    "print(\"The error rate is {}\".format(error1))"
   ]
  },
  {
   "cell_type": "code",
   "execution_count": null,
   "metadata": {
    "collapsed": true
   },
   "outputs": [],
   "source": []
  }
 ],
 "metadata": {
  "anaconda-cloud": {},
  "kernelspec": {
   "display_name": "Python [conda root]",
   "language": "python",
   "name": "conda-root-py"
  },
  "language_info": {
   "codemirror_mode": {
    "name": "ipython",
    "version": 3
   },
   "file_extension": ".py",
   "mimetype": "text/x-python",
   "name": "python",
   "nbconvert_exporter": "python",
   "pygments_lexer": "ipython3",
   "version": "3.5.2"
  }
 },
 "nbformat": 4,
 "nbformat_minor": 1
}
